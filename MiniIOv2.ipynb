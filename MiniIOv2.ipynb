{
 "cells": [
  {
   "cell_type": "code",
   "execution_count": 20,
   "metadata": {},
   "outputs": [],
   "source": [
    "####>> Step 1 <<####\n",
    "from pyspark.sql import SparkSession\n",
    "from pyspark import SparkContext\n",
    "import pyspark\n",
    "from pyspark.sql.functions import *\n",
    "## ------------------------------ ##"
   ]
  },
  {
   "cell_type": "code",
   "execution_count": 21,
   "metadata": {},
   "outputs": [],
   "source": [
    "####>> Step 2 <<####\n",
    "###### SparkSession ######\n",
    "def session_spark():\n",
    "    spark = (\n",
    "        SparkSession.builder\n",
    "            .master(\"local[*]\")\n",
    "            .appName(\"minio\")\n",
    "            ## Config Fields\n",
    "            .config('spark.sql.debug.maxToStringFields', 500)\n",
    "            .config('spark.debug.maxToStringFields', 500)\n",
    "            # Optimize\n",
    "            .config(\"delta.autoOptimize.optimizeWrite\", \"true\")\n",
    "            .config(\"delta.autoOptimize.autoCompact\", \"true\")\n",
    "            ## Delta Table\n",
    "            .config(\"spark.jars.packages\", \"io.delta:delta-core_2.12:2.3.0\")\n",
    "            .config(\"spark.sql.extensions\", \"io.delta.sql.DeltaSparkSessionExtension\")\n",
    "            .config(\"spark.sql.catalog.spark_catalog\", \"org.apache.spark.sql.delta.catalog.DeltaCatalog\")\n",
    "            ## MinIO\n",
    "            .config(\"spark.hadoop.fs.s3a.endpoint\", \"http://localhost:9000\")\n",
    "            .config(\"spark.hadoop.fs.s3a.access.key\", \"minioadmin\")\n",
    "            .config(\"spark.hadoop.fs.s3a.secret.key\", \"minioadmin\")\n",
    "            .config(\"spark.hadoop.fs.s3a.path.style.access\", \"true\")\n",
    "            .config(\"spark.hadoop.fs.s3a.impl\", \"org.apache.hadoop.fs.s3a.S3AFileSystem\")\n",
    "            ## Jars\n",
    "            .config(\"spark.jars\", \"C:\\\\Spark-3.3.2\\\\jars\\\\aws-java-sdk-bundle-1.11.1026.jar, \\\n",
    "                                   C:\\\\Spark-3.3.2\\\\jars\\\\hadoop-aws-3.3.2.jar\")\n",
    "            ## Hive SQL\n",
    "            .enableHiveSupport()\n",
    "            .getOrCreate()\n",
    "    )\n",
    "    return spark"
   ]
  },
  {
   "cell_type": "code",
   "execution_count": 23,
   "metadata": {},
   "outputs": [
    {
     "name": "stdout",
     "output_type": "stream",
     "text": [
      "conexão com o Spark - ok!!!\n",
      "\n",
      "Version: 3.3.2\n"
     ]
    }
   ],
   "source": [
    "####>> Step 3 <<####\n",
    "spark = session_spark()\n",
    "print(\"conexão com o Spark - ok!!!\\n\")\n",
    "print(\"Version:\", spark.version)\n",
    "## ------------------------------ ##"
   ]
  },
  {
   "cell_type": "code",
   "execution_count": 24,
   "metadata": {},
   "outputs": [],
   "source": [
    "####>> Step 4 <<####\n",
    "log4jLogger = spark.sparkContext._jvm.org.apache.log4j\n",
    "LOGGER = log4jLogger.LogManager.getLogger(__name__)\n",
    "spark.sparkContext.setLogLevel(\"ERROR\")\n",
    "## ------------------------------ ##"
   ]
  },
  {
   "cell_type": "code",
   "execution_count": 25,
   "metadata": {},
   "outputs": [],
   "source": [
    "####>> Step 5 <<####\n",
    "spark.conf.set(\"spark.sql.shuffle.partitions\", spark.sparkContext.defaultParallelism)\n",
    "## ------------------------------ ##"
   ]
  },
  {
   "cell_type": "code",
   "execution_count": 26,
   "metadata": {},
   "outputs": [],
   "source": [
    "####>> Step 6 <<####\n",
    "from delta import *\n",
    "## ------------------------------ ##"
   ]
  },
  {
   "cell_type": "code",
   "execution_count": 27,
   "metadata": {},
   "outputs": [],
   "source": [
    "####>> Step 7 <<####\n",
    "targetBucket = \"bronze\"\n",
    "sourcePath = f\"C:/Lenzi/Spark/LearningSparkV2-master/chapter3/data/sf-fire-calls.csv\"\n",
    "targetPath = f\"s3a://{targetBucket}/sf_fire_dept/\"\n",
    "## ------------------------------ ##"
   ]
  },
  {
   "cell_type": "code",
   "execution_count": 29,
   "metadata": {},
   "outputs": [
    {
     "data": {
      "text/plain": [
       "175296"
      ]
     },
     "execution_count": 29,
     "metadata": {},
     "output_type": "execute_result"
    }
   ],
   "source": [
    "####>> Step 8 <<####\n",
    "# dfRaw = read_json(spark, sourcePath, \"true\", \"true\", schema_evolution(sourcePath, \"json\"))\n",
    "fire_df = spark.read.csv(sourcePath, header=True, inferSchema=True)\n",
    "fire_df.count()"
   ]
  },
  {
   "cell_type": "code",
   "execution_count": 14,
   "metadata": {},
   "outputs": [],
   "source": [
    "####>> Step 9 <<####\n",
    "(\n",
    "   fire_df.write      \n",
    "      .format(\"parquet\")\n",
    "      .mode(\"overwrite\")\n",
    "      .option(\"overwriteSchema\", \"true\")\n",
    "      .option(\"mergeSchema\", \"true\")\n",
    "      .option(\"path\", targetPath)\n",
    "      .save()\n",
    ")\n",
    "#------------------------------#"
   ]
  },
  {
   "cell_type": "code",
   "execution_count": 15,
   "metadata": {},
   "outputs": [],
   "source": [
    "spark.stop()"
   ]
  }
 ],
 "metadata": {
  "kernelspec": {
   "display_name": "base",
   "language": "python",
   "name": "python3"
  },
  "language_info": {
   "codemirror_mode": {
    "name": "ipython",
    "version": 3
   },
   "file_extension": ".py",
   "mimetype": "text/x-python",
   "name": "python",
   "nbconvert_exporter": "python",
   "pygments_lexer": "ipython3",
   "version": "3.9.13"
  },
  "orig_nbformat": 4
 },
 "nbformat": 4,
 "nbformat_minor": 2
}
